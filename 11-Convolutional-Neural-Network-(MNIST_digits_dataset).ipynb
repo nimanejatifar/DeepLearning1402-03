{
  "nbformat": 4,
  "nbformat_minor": 0,
  "metadata": {
    "colab": {
      "provenance": [],
      "gpuType": "T4",
      "authorship_tag": "ABX9TyP6D/9eHRnW0zSO4smj8YWb",
      "include_colab_link": true
    },
    "kernelspec": {
      "name": "python3",
      "display_name": "Python 3"
    },
    "language_info": {
      "name": "python"
    },
    "accelerator": "GPU"
  },
  "cells": [
    {
      "cell_type": "markdown",
      "metadata": {
        "id": "view-in-github",
        "colab_type": "text"
      },
      "source": [
        "<a href=\"https://colab.research.google.com/github/nimanejatifar/DeepLearning1402-03/blob/main/11-Convolutional-Neural-Network-(MNIST_digits_dataset).ipynb\" target=\"_parent\"><img src=\"https://colab.research.google.com/assets/colab-badge.svg\" alt=\"Open In Colab\"/></a>"
      ]
    },
    {
      "cell_type": "code",
      "execution_count": 1,
      "metadata": {
        "id": "5nV3_fu1j-i5"
      },
      "outputs": [],
      "source": [
        "import os\n",
        "import cv2\n",
        "import numpy as np\n",
        "import matplotlib.pyplot as plt\n",
        "import tensorflow as tf\n",
        "from tensorflow import keras\n",
        "from keras import layers\n",
        "from keras.models import Sequential\n",
        "from keras.layers import Dense, Dropout\n",
        "\n",
        "\n",
        "mnist = tf.keras.datasets.mnist"
      ]
    },
    {
      "cell_type": "code",
      "execution_count": 2,
      "metadata": {
        "colab": {
          "base_uri": "https://localhost:8080/"
        },
        "id": "QjzvhDLOkBBr",
        "outputId": "2293796e-9158-4ebb-934c-c9c3eca94a5b"
      },
      "outputs": [
        {
          "output_type": "stream",
          "name": "stdout",
          "text": [
            "Downloading data from https://storage.googleapis.com/tensorflow/tf-keras-datasets/mnist.npz\n",
            "11490434/11490434 [==============================] - 2s 0us/step\n"
          ]
        }
      ],
      "source": [
        "(x_train, y_train), (x_test, y_test) = mnist.load_data()"
      ]
    },
    {
      "cell_type": "code",
      "execution_count": 4,
      "metadata": {
        "colab": {
          "base_uri": "https://localhost:8080/"
        },
        "id": "M7f7zvJwx9hA",
        "outputId": "c0f212f0-7fb5-4189-cd42-383e432775ac"
      },
      "outputs": [
        {
          "output_type": "execute_result",
          "data": {
            "text/plain": [
              "array([5, 0, 4, 1, 9], dtype=uint8)"
            ]
          },
          "metadata": {},
          "execution_count": 4
        }
      ],
      "source": [
        "y_train[:5]"
      ]
    },
    {
      "cell_type": "code",
      "execution_count": 5,
      "metadata": {
        "colab": {
          "base_uri": "https://localhost:8080/"
        },
        "id": "_qE44N1r_OmV",
        "outputId": "1e15f0ff-8c79-4faa-c599-f2aa729667a7"
      },
      "outputs": [
        {
          "output_type": "execute_result",
          "data": {
            "text/plain": [
              "(60000,)"
            ]
          },
          "metadata": {},
          "execution_count": 5
        }
      ],
      "source": [
        "y_train.shape"
      ]
    },
    {
      "cell_type": "code",
      "execution_count": 6,
      "metadata": {
        "id": "h7eNcFP4xVJZ"
      },
      "outputs": [],
      "source": [
        "# Preprocess input data for Keras.\n",
        "# ***** one-hot encoding: We can use SparseCategoricalCrossentropy instead. instead\n",
        "# y_train = keras.utils.to_categorical(y_train, num_classes=10)\n",
        "# y_test = keras.utils.to_categorical(y_test, num_classes=10)"
      ]
    },
    {
      "cell_type": "code",
      "execution_count": 7,
      "metadata": {
        "id": "coQgalcglo8Q"
      },
      "outputs": [],
      "source": [
        "x_train = x_train.astype('float32')\n",
        "x_test = x_test.astype('float32')\n",
        "x_train /= 255\n",
        "x_test /= 255"
      ]
    },
    {
      "cell_type": "code",
      "execution_count": 8,
      "metadata": {
        "id": "BnMeEOKAweBh"
      },
      "outputs": [],
      "source": [
        "# Reshape to original image shape (n x 784)  ==> (n x 28 x 28 x 1)\n",
        "x_train = x_train.reshape(-1,28,28,1)\n",
        "x_test = x_test.reshape(-1,28,28,1)\n",
        "# *** -1 refers to 3500 (count of samples) ***\n",
        "\n",
        "# Preprocess class labels *** One-Hot making ***\n",
        "y_train = keras.utils.to_categorical(y_train)\n",
        "y_test = keras.utils.to_categorical(y_test)"
      ]
    },
    {
      "cell_type": "code",
      "execution_count": 9,
      "metadata": {
        "id": "TCg8fxZtFAw2"
      },
      "outputs": [],
      "source": [
        "# Model architecture\n",
        "cnn_model = Sequential()\n",
        "cnn_model.add(layers.Conv2D(32, (3, 3), activation='relu',\n",
        "                        input_shape=(28, 28, 1)))\n",
        "cnn_model.add(layers.MaxPooling2D((2, 2)))\n",
        "cnn_model.add(layers.Conv2D(64, (3, 3), activation='relu'))\n",
        "cnn_model.add(layers.MaxPooling2D((2, 2)))\n",
        "cnn_model.add(layers.Conv2D(64, (3, 3), activation='relu'))\n",
        "\n",
        "\n",
        "cnn_model.add(layers.Flatten())\n",
        "# Fully connected do classification for us\n",
        "cnn_model.add(layers.Dense(128, activation='relu'))\n",
        "cnn_model.add(Dropout(0.5))\n",
        "cnn_model.add(layers.Dense(10, activation='softmax'))"
      ]
    },
    {
      "cell_type": "code",
      "execution_count": 10,
      "metadata": {
        "id": "D5LExiUDKyPj"
      },
      "outputs": [],
      "source": [
        "cnn_model.compile(loss='categorical_crossentropy',\n",
        "              optimizer='adam',\n",
        "              metrics=['accuracy'])"
      ]
    },
    {
      "cell_type": "code",
      "execution_count": 11,
      "metadata": {
        "colab": {
          "base_uri": "https://localhost:8080/"
        },
        "id": "cjkwYtjRLF_v",
        "outputId": "31891ea7-b656-4fb1-ad1c-f2d7d7a491ba"
      },
      "outputs": [
        {
          "output_type": "stream",
          "name": "stdout",
          "text": [
            "Epoch 1/30\n",
            "94/94 [==============================] - 7s 19ms/step - loss: 0.7220 - accuracy: 0.7775 - val_loss: 0.1554 - val_accuracy: 0.9522\n",
            "Epoch 2/30\n",
            "94/94 [==============================] - 1s 10ms/step - loss: 0.1811 - accuracy: 0.9467 - val_loss: 0.0782 - val_accuracy: 0.9772\n",
            "Epoch 3/30\n",
            "94/94 [==============================] - 1s 12ms/step - loss: 0.1151 - accuracy: 0.9656 - val_loss: 0.0581 - val_accuracy: 0.9831\n",
            "Epoch 4/30\n",
            "94/94 [==============================] - 1s 13ms/step - loss: 0.0883 - accuracy: 0.9740 - val_loss: 0.0536 - val_accuracy: 0.9846\n",
            "Epoch 5/30\n",
            "94/94 [==============================] - 1s 13ms/step - loss: 0.0744 - accuracy: 0.9779 - val_loss: 0.0486 - val_accuracy: 0.9858\n",
            "Epoch 6/30\n",
            "94/94 [==============================] - 1s 11ms/step - loss: 0.0625 - accuracy: 0.9816 - val_loss: 0.0410 - val_accuracy: 0.9876\n",
            "Epoch 7/30\n",
            "94/94 [==============================] - 1s 11ms/step - loss: 0.0547 - accuracy: 0.9840 - val_loss: 0.0402 - val_accuracy: 0.9882\n",
            "Epoch 8/30\n",
            "94/94 [==============================] - 1s 11ms/step - loss: 0.0479 - accuracy: 0.9850 - val_loss: 0.0375 - val_accuracy: 0.9886\n",
            "Epoch 9/30\n",
            "94/94 [==============================] - 1s 11ms/step - loss: 0.0415 - accuracy: 0.9877 - val_loss: 0.0358 - val_accuracy: 0.9891\n",
            "Epoch 10/30\n",
            "94/94 [==============================] - 1s 11ms/step - loss: 0.0374 - accuracy: 0.9887 - val_loss: 0.0387 - val_accuracy: 0.9889\n",
            "Epoch 11/30\n",
            "94/94 [==============================] - 1s 10ms/step - loss: 0.0346 - accuracy: 0.9900 - val_loss: 0.0375 - val_accuracy: 0.9897\n",
            "Epoch 12/30\n",
            "94/94 [==============================] - 1s 11ms/step - loss: 0.0331 - accuracy: 0.9896 - val_loss: 0.0340 - val_accuracy: 0.9908\n",
            "Epoch 13/30\n",
            "94/94 [==============================] - 1s 11ms/step - loss: 0.0321 - accuracy: 0.9901 - val_loss: 0.0345 - val_accuracy: 0.9900\n",
            "Epoch 14/30\n",
            "94/94 [==============================] - 1s 11ms/step - loss: 0.0289 - accuracy: 0.9912 - val_loss: 0.0343 - val_accuracy: 0.9905\n",
            "Epoch 15/30\n",
            "94/94 [==============================] - 1s 12ms/step - loss: 0.0272 - accuracy: 0.9915 - val_loss: 0.0372 - val_accuracy: 0.9900\n",
            "Epoch 16/30\n",
            "94/94 [==============================] - 1s 13ms/step - loss: 0.0245 - accuracy: 0.9924 - val_loss: 0.0347 - val_accuracy: 0.9909\n",
            "Epoch 17/30\n",
            "94/94 [==============================] - 1s 12ms/step - loss: 0.0221 - accuracy: 0.9932 - val_loss: 0.0349 - val_accuracy: 0.9907\n",
            "Epoch 18/30\n",
            "94/94 [==============================] - 1s 13ms/step - loss: 0.0215 - accuracy: 0.9930 - val_loss: 0.0331 - val_accuracy: 0.9915\n",
            "Epoch 19/30\n",
            "94/94 [==============================] - 1s 11ms/step - loss: 0.0193 - accuracy: 0.9938 - val_loss: 0.0345 - val_accuracy: 0.9912\n",
            "Epoch 20/30\n",
            "94/94 [==============================] - 1s 11ms/step - loss: 0.0187 - accuracy: 0.9940 - val_loss: 0.0354 - val_accuracy: 0.9905\n",
            "Epoch 21/30\n",
            "94/94 [==============================] - 1s 11ms/step - loss: 0.0170 - accuracy: 0.9948 - val_loss: 0.0339 - val_accuracy: 0.9919\n",
            "Epoch 22/30\n",
            "94/94 [==============================] - 1s 11ms/step - loss: 0.0165 - accuracy: 0.9948 - val_loss: 0.0360 - val_accuracy: 0.9911\n",
            "Epoch 23/30\n",
            "94/94 [==============================] - 1s 11ms/step - loss: 0.0152 - accuracy: 0.9949 - val_loss: 0.0376 - val_accuracy: 0.9912\n",
            "Epoch 24/30\n",
            "94/94 [==============================] - 1s 11ms/step - loss: 0.0149 - accuracy: 0.9952 - val_loss: 0.0396 - val_accuracy: 0.9912\n",
            "Epoch 25/30\n",
            "94/94 [==============================] - 1s 11ms/step - loss: 0.0120 - accuracy: 0.9962 - val_loss: 0.0381 - val_accuracy: 0.9918\n",
            "Epoch 26/30\n",
            "94/94 [==============================] - 1s 12ms/step - loss: 0.0127 - accuracy: 0.9958 - val_loss: 0.0378 - val_accuracy: 0.9918\n",
            "Epoch 27/30\n",
            "94/94 [==============================] - 1s 12ms/step - loss: 0.0123 - accuracy: 0.9960 - val_loss: 0.0391 - val_accuracy: 0.9921\n",
            "Epoch 28/30\n",
            "94/94 [==============================] - 1s 12ms/step - loss: 0.0118 - accuracy: 0.9963 - val_loss: 0.0356 - val_accuracy: 0.9920\n",
            "Epoch 29/30\n",
            "94/94 [==============================] - 1s 11ms/step - loss: 0.0099 - accuracy: 0.9966 - val_loss: 0.0355 - val_accuracy: 0.9918\n",
            "Epoch 30/30\n",
            "94/94 [==============================] - 1s 11ms/step - loss: 0.0098 - accuracy: 0.9970 - val_loss: 0.0397 - val_accuracy: 0.9912\n"
          ]
        }
      ],
      "source": [
        "CNN = cnn_model.fit(x_train, y_train,\n",
        "          epochs=30, batch_size=512, validation_split=0.2)"
      ]
    },
    {
      "cell_type": "code",
      "execution_count": 12,
      "metadata": {
        "colab": {
          "base_uri": "https://localhost:8080/"
        },
        "id": "0S0oO5XX0IP_",
        "outputId": "b798e3de-0640-404d-e934-9ef9e3d74a3f"
      },
      "outputs": [
        {
          "output_type": "execute_result",
          "data": {
            "text/plain": [
              "<keras.src.callbacks.History at 0x7ca1b5b4f580>"
            ]
          },
          "metadata": {},
          "execution_count": 12
        }
      ],
      "source": [
        "CNN"
      ]
    },
    {
      "cell_type": "code",
      "execution_count": 13,
      "metadata": {
        "colab": {
          "base_uri": "https://localhost:8080/"
        },
        "id": "SxOTHCV61F4H",
        "outputId": "e0c1f10c-b24f-4235-cd9e-49b5df0b6490"
      },
      "outputs": [
        {
          "output_type": "execute_result",
          "data": {
            "text/plain": [
              "dict_keys(['loss', 'accuracy', 'val_loss', 'val_accuracy'])"
            ]
          },
          "metadata": {},
          "execution_count": 13
        }
      ],
      "source": [
        "CNN.history.keys()"
      ]
    },
    {
      "cell_type": "code",
      "execution_count": 14,
      "metadata": {
        "colab": {
          "base_uri": "https://localhost:8080/"
        },
        "id": "u0rNrmwP9gup",
        "outputId": "6e5658b9-e75f-486a-99bf-df0950001b20"
      },
      "outputs": [
        {
          "output_type": "stream",
          "name": "stdout",
          "text": [
            "Test Accuracy: 0.9911666512489319 \n",
            "Maximum Test Acuracy During Training:  0.9920833110809326\n"
          ]
        }
      ],
      "source": [
        "print(\"Test Accuracy:\",CNN.history['val_accuracy'][-1],\n",
        "      \"\\nMaximum Test Acuracy During Training: \",\n",
        "      max(CNN.history['val_accuracy']))"
      ]
    },
    {
      "cell_type": "code",
      "execution_count": 15,
      "metadata": {
        "colab": {
          "base_uri": "https://localhost:8080/",
          "height": 447
        },
        "id": "7PVO5m9s07xJ",
        "outputId": "6d4610bc-a4ef-4779-c935-9d39a693bd56"
      },
      "outputs": [
        {
          "output_type": "execute_result",
          "data": {
            "text/plain": [
              "<matplotlib.legend.Legend at 0x7ca1b63f2bc0>"
            ]
          },
          "metadata": {},
          "execution_count": 15
        },
        {
          "output_type": "display_data",
          "data": {
            "text/plain": [
              "<Figure size 640x480 with 1 Axes>"
            ],
            "image/png": "[encoded data removed]"
          },
          "metadata": {}
        }
      ],
      "source": [
        "import matplotlib.pyplot as plt\n",
        "%matplotlib inline\n",
        "plt.plot(CNN.history['val_loss'])\n",
        "plt.plot(CNN.history['loss'])\n",
        "plt.legend(['val', 'train'])"
      ]
    },
    {
      "cell_type": "code",
      "execution_count": 16,
      "metadata": {
        "colab": {
          "base_uri": "https://localhost:8080/",
          "height": 447
        },
        "id": "OSpmER8n1hdB",
        "outputId": "fb854102-dc41-45b2-ef63-555a4801b143"
      },
      "outputs": [
        {
          "output_type": "execute_result",
          "data": {
            "text/plain": [
              "<matplotlib.legend.Legend at 0x7ca19c232740>"
            ]
          },
          "metadata": {},
          "execution_count": 16
        },
        {
          "output_type": "display_data",
          "data": {
            "text/plain": [
              "<Figure size 640x480 with 1 Axes>"
            ],
            "image/png": "[encoded data removed]"
          },
          "metadata": {}
        }
      ],
      "source": [
        "plt.plot(CNN.history['val_accuracy'])\n",
        "plt.plot(CNN.history['accuracy'])\n",
        "plt.legend(['val', 'train'])"
      ]
    },
    {
      "cell_type": "code",
      "execution_count": 17,
      "metadata": {
        "colab": {
          "base_uri": "https://localhost:8080/"
        },
        "id": "J8fD0XkJCkg-",
        "outputId": "fbb79e83-5e16-47ab-b25e-8884e394d87b"
      },
      "outputs": [
        {
          "output_type": "execute_result",
          "data": {
            "text/plain": [
              "array([1., 0., 0., 0., 0., 0., 0., 0., 0., 0.], dtype=float32)"
            ]
          },
          "metadata": {},
          "execution_count": 17
        }
      ],
      "source": [
        "y_test[10]"
      ]
    },
    {
      "cell_type": "code",
      "execution_count": 18,
      "metadata": {
        "colab": {
          "base_uri": "https://localhost:8080/"
        },
        "id": "p5As1YG4Cn72",
        "outputId": "3cfacfb4-e81f-4e7f-dba9-24c25a7742fb"
      },
      "outputs": [
        {
          "output_type": "execute_result",
          "data": {
            "text/plain": [
              "(28, 28, 1)"
            ]
          },
          "metadata": {},
          "execution_count": 18
        }
      ],
      "source": [
        "x_test[10].shape"
      ]
    },
    {
      "cell_type": "code",
      "execution_count": 19,
      "metadata": {
        "id": "qgYCmQiDCn-N"
      },
      "outputs": [],
      "source": [
        "test_sample = x_test[10].reshape(1,28,28,1)"
      ]
    },
    {
      "cell_type": "code",
      "execution_count": 20,
      "metadata": {
        "colab": {
          "base_uri": "https://localhost:8080/"
        },
        "id": "gRKLtIhRC5Ac",
        "outputId": "4bdfaffb-e303-4f99-8c71-d6bf83931a67"
      },
      "outputs": [
        {
          "output_type": "stream",
          "name": "stdout",
          "text": [
            "1/1 [==============================] - 0s 256ms/step\n"
          ]
        },
        {
          "output_type": "execute_result",
          "data": {
            "text/plain": [
              "array([[1.0000000e+00, 1.7637307e-17, 4.7758726e-13, 3.6827381e-17,\n",
              "        1.9325495e-15, 5.3135915e-17, 3.4799020e-14, 6.9714380e-16,\n",
              "        1.3899568e-16, 3.4375287e-11]], dtype=float32)"
            ]
          },
          "metadata": {},
          "execution_count": 20
        }
      ],
      "source": [
        "t2 = cnn_model.predict(test_sample)\n",
        "t2"
      ]
    },
    {
      "cell_type": "code",
      "execution_count": 25,
      "metadata": {
        "colab": {
          "base_uri": "https://localhost:8080/"
        },
        "id": "ytME9D9XMHBi",
        "outputId": "b43e8197-2d87-4629-9448-e5a45c643d06"
      },
      "outputs": [
        {
          "output_type": "stream",
          "name": "stdout",
          "text": [
            "313/313 [==============================] - 1s 3ms/step - loss: 0.0233 - accuracy: 0.9939\n",
            "0.023303396999835968\n",
            "0.9939000010490417\n"
          ]
        }
      ],
      "source": [
        "loss, accuracy = cnn_model.evaluate(x_test, y_test)\n",
        "print(loss)\n",
        "print(accuracy)"
      ]
    },
    {
      "cell_type": "code",
      "execution_count": 26,
      "metadata": {
        "colab": {
          "base_uri": "https://localhost:8080/"
        },
        "id": "UXtEW6Ns3Myj",
        "outputId": "967a4de9-4857-4a6c-b659-021f2c414d29"
      },
      "outputs": [
        {
          "output_type": "execute_result",
          "data": {
            "text/plain": [
              "1.0"
            ]
          },
          "metadata": {},
          "execution_count": 26
        }
      ],
      "source": [
        "np.max(t2)"
      ]
    },
    {
      "cell_type": "code",
      "execution_count": 27,
      "metadata": {
        "colab": {
          "base_uri": "https://localhost:8080/",
          "height": 912
        },
        "id": "01Px-x5oMWbU",
        "outputId": "89ed72ea-930b-4792-b3d9-9007015e6557"
      },
      "outputs": [
        {
          "output_type": "stream",
          "name": "stdout",
          "text": [
            "1/1 [==============================] - 0s 131ms/step\n",
            "The below image probably shows the number 8\n"
          ]
        },
        {
          "output_type": "display_data",
          "data": {
            "text/plain": [
              "<Figure size 640x480 with 1 Axes>"
            ],
            "image/png": "[encoded data removed]"
          },
          "metadata": {}
        },
        {
          "output_type": "stream",
          "name": "stdout",
          "text": [
            "1/1 [==============================] - 0s 29ms/step\n",
            "The below image probably shows the number 3\n"
          ]
        },
        {
          "output_type": "display_data",
          "data": {
            "text/plain": [
              "<Figure size 640x480 with 1 Axes>"
            ],
            "image/png": "[encoded data removed]"
          },
          "metadata": {}
        }
      ],
      "source": [
        "image_number = 1\n",
        "while os.path.isfile(f\"img{image_number}.jpg\"):\n",
        "  try:\n",
        "    img = cv2.imread(f\"img{image_number}.jpg\")[:,:,0]\n",
        "    img = np.invert(np.array([img]))\n",
        "    prediction = cnn_model.predict(img)\n",
        "    if np.max(prediction) < 0.9:\n",
        "        continue\n",
        "\n",
        "    print(f\"The below image probably shows the number {np.argmax(prediction)}\")\n",
        "    plt.imshow(img[0], cmap=plt.cm.binary)\n",
        "    plt.show()\n",
        "  except:\n",
        "    print(\"Error\")\n",
        "  finally:\n",
        "    image_number += 1"
      ]
    },
    {
      "cell_type": "code",
      "execution_count": null,
      "metadata": {
        "id": "fWBpVcQqO8Bd"
      },
      "outputs": [],
      "source": []
    }
  ]
}