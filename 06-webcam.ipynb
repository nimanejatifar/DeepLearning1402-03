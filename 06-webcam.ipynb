{
 "cells": [
  {
   "cell_type": "code",
   "execution_count": 2,
   "id": "70ff71b8",
   "metadata": {},
   "outputs": [],
   "source": [
    "import cv2\n",
    "import numpy as np"
   ]
  },
  {
   "cell_type": "code",
   "execution_count": 3,
   "id": "598a910e",
   "metadata": {},
   "outputs": [],
   "source": [
    "c = cv2.VideoCapture(0)"
   ]
  },
  {
   "cell_type": "code",
   "execution_count": 4,
   "id": "d1977588",
   "metadata": {},
   "outputs": [],
   "source": [
    "img = c.read()"
   ]
  },
  {
   "cell_type": "code",
   "execution_count": 5,
   "id": "e0812fa1",
   "metadata": {},
   "outputs": [
    {
     "data": {
      "text/plain": [
       "(True,\n",
       " array([[[158, 163, 158],\n",
       "         [155, 162, 157],\n",
       "         [154, 162, 157],\n",
       "         ...,\n",
       "         [197, 194, 191],\n",
       "         [196, 193, 189],\n",
       "         [195, 192, 187]],\n",
       " \n",
       "        [[155, 164, 158],\n",
       "         [155, 164, 158],\n",
       "         [154, 162, 157],\n",
       "         ...,\n",
       "         [197, 194, 190],\n",
       "         [196, 193, 189],\n",
       "         [195, 192, 187]],\n",
       " \n",
       "        [[157, 165, 159],\n",
       "         [157, 165, 159],\n",
       "         [157, 165, 159],\n",
       "         ...,\n",
       "         [199, 195, 191],\n",
       "         [195, 192, 187],\n",
       "         [194, 190, 186]],\n",
       " \n",
       "        ...,\n",
       " \n",
       "        [[125, 132, 133],\n",
       "         [129, 135, 137],\n",
       "         [126, 133, 135],\n",
       "         ...,\n",
       "         [ 25,  45,  75],\n",
       "         [ 25,  45,  75],\n",
       "         [ 26,  46,  76]],\n",
       " \n",
       "        [[128, 134, 136],\n",
       "         [128, 134, 136],\n",
       "         [126, 133, 135],\n",
       "         ...,\n",
       "         [ 27,  45,  74],\n",
       "         [ 26,  44,  74],\n",
       "         [ 27,  45,  75]],\n",
       " \n",
       "        [[126, 132, 136],\n",
       "         [128, 133, 138],\n",
       "         [128, 133, 137],\n",
       "         ...,\n",
       "         [ 28,  46,  75],\n",
       "         [ 27,  45,  75],\n",
       "         [ 28,  46,  76]]], dtype=uint8))"
      ]
     },
     "execution_count": 5,
     "metadata": {},
     "output_type": "execute_result"
    }
   ],
   "source": [
    "img # tuple"
   ]
  },
  {
   "cell_type": "code",
   "execution_count": 6,
   "id": "67e099f7",
   "metadata": {},
   "outputs": [],
   "source": [
    "is_true, img = c.read()"
   ]
  },
  {
   "cell_type": "code",
   "execution_count": 7,
   "id": "631f8dfc",
   "metadata": {},
   "outputs": [
    {
     "data": {
      "text/plain": [
       "True"
      ]
     },
     "execution_count": 7,
     "metadata": {},
     "output_type": "execute_result"
    }
   ],
   "source": [
    "is_true"
   ]
  },
  {
   "cell_type": "code",
   "execution_count": 8,
   "id": "bd0dd2f1",
   "metadata": {},
   "outputs": [
    {
     "data": {
      "text/plain": [
       "array([[[159, 162, 157],\n",
       "        [157, 161, 156],\n",
       "        [157, 161, 156],\n",
       "        ...,\n",
       "        [197, 190, 192],\n",
       "        [197, 190, 191],\n",
       "        [196, 189, 190]],\n",
       "\n",
       "       [[158, 163, 160],\n",
       "        [156, 162, 159],\n",
       "        [155, 160, 158],\n",
       "        ...,\n",
       "        [195, 191, 191],\n",
       "        [195, 191, 191],\n",
       "        [195, 191, 191]],\n",
       "\n",
       "       [[159, 164, 161],\n",
       "        [156, 162, 159],\n",
       "        [155, 160, 158],\n",
       "        ...,\n",
       "        [195, 191, 189],\n",
       "        [196, 192, 190],\n",
       "        [195, 191, 189]],\n",
       "\n",
       "       ...,\n",
       "\n",
       "       [[125, 134, 137],\n",
       "        [124, 133, 136],\n",
       "        [123, 131, 135],\n",
       "        ...,\n",
       "        [ 29,  48,  85],\n",
       "        [ 27,  46,  83],\n",
       "        [ 25,  44,  81]],\n",
       "\n",
       "       [[125, 134, 137],\n",
       "        [125, 134, 137],\n",
       "        [123, 131, 135],\n",
       "        ...,\n",
       "        [ 25,  43,  83],\n",
       "        [ 22,  41,  80],\n",
       "        [ 21,  40,  79]],\n",
       "\n",
       "       [[123, 131, 135],\n",
       "        [125, 134, 137],\n",
       "        [123, 131, 135],\n",
       "        ...,\n",
       "        [ 20,  38,  80],\n",
       "        [ 19,  37,  78],\n",
       "        [ 19,  37,  78]]], dtype=uint8)"
      ]
     },
     "execution_count": 8,
     "metadata": {},
     "output_type": "execute_result"
    }
   ],
   "source": [
    "img"
   ]
  },
  {
   "cell_type": "code",
   "execution_count": 9,
   "id": "0501dbf1",
   "metadata": {},
   "outputs": [
    {
     "data": {
      "text/plain": [
       "(480, 640, 3)"
      ]
     },
     "execution_count": 9,
     "metadata": {},
     "output_type": "execute_result"
    }
   ],
   "source": [
    "img.shape"
   ]
  },
  {
   "cell_type": "code",
   "execution_count": null,
   "id": "ad5c8923",
   "metadata": {},
   "outputs": [],
   "source": [
    "import matplotlib.pyplot as plt\n",
    "\n",
    "plt.imshow(img[...,::-1])"
   ]
  },
  {
   "cell_type": "code",
   "execution_count": 10,
   "id": "44b7f151",
   "metadata": {},
   "outputs": [],
   "source": [
    "c.release()"
   ]
  },
  {
   "cell_type": "code",
   "execution_count": null,
   "id": "48d349f4",
   "metadata": {},
   "outputs": [],
   "source": []
  },
  {
   "cell_type": "code",
   "execution_count": 13,
   "id": "9337bfe0",
   "metadata": {},
   "outputs": [],
   "source": [
    "c = cv2.VideoCapture(0)\n",
    "while True:\n",
    "    ret, frame = c.read()\n",
    "    cv2.imshow('WebCam', frame)    \n",
    "    if cv2.waitKey(1) & 0xFF == ord('q') : #esc __ ord('q')\n",
    "        \n",
    "        break\n",
    "c.release()\n",
    "cv2.destroyAllWindows()  "
   ]
  },
  {
   "cell_type": "code",
   "execution_count": 14,
   "id": "f784c404",
   "metadata": {},
   "outputs": [],
   "source": [
    "c = cv2.VideoCapture(0)\n",
    "while True:\n",
    "    ret, frame = c.read()\n",
    "    frame[:,:,0] = frame[:,:,1] = 0 # openCV --> BGR\n",
    "    cv2.imshow('WebCam', frame)    \n",
    "    if cv2.waitKey(1) & 0xFF == 27:\n",
    "        \n",
    "        break\n",
    "c.release()\n",
    "cv2.destroyAllWindows() "
   ]
  },
  {
   "cell_type": "code",
   "execution_count": null,
   "id": "09745e4d",
   "metadata": {},
   "outputs": [],
   "source": [
    "c = cv2.VideoCapture(0)\n",
    "while True:\n",
    "    ret, frame = c.read()\n",
    "    gray = cv2.cvtColor(frame, cv2.COLOR_BGR2GRAY) #gray_scale\n",
    "    edge = cv2.Canny(gray,50,100)\n",
    "    cv2.imshow('WebCam', edge)    \n",
    "    if cv2.waitKey(1) & 0xFF == 27:\n",
    "        break\n",
    "c.release()\n",
    "cv2.destroyAllWindows() "
   ]
  },
  {
   "cell_type": "code",
   "execution_count": null,
   "id": "7ae104a5",
   "metadata": {},
   "outputs": [],
   "source": []
  }
 ],
 "metadata": {
  "kernelspec": {
   "display_name": "Python 3 (ipykernel)",
   "language": "python",
   "name": "python3"
  },
  "language_info": {
   "codemirror_mode": {
    "name": "ipython",
    "version": 3
   },
   "file_extension": ".py",
   "mimetype": "text/x-python",
   "name": "python",
   "nbconvert_exporter": "python",
   "pygments_lexer": "ipython3",
   "version": "3.9.13"
  }
 },
 "nbformat": 4,
 "nbformat_minor": 5
}
