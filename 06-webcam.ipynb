{
 "cells": [
  {
   "cell_type": "code",
   "execution_count": null,
   "id": "70ff71b8",
   "metadata": {},
   "outputs": [],
   "source": [
    "import cv2\n",
    "import numpy as np"
   ]
  },
  {
   "cell_type": "code",
   "execution_count": null,
   "id": "598a910e",
   "metadata": {},
   "outputs": [],
   "source": [
    "c = cv2.VideoCapture(0)"
   ]
  },
  {
   "cell_type": "code",
   "execution_count": null,
   "id": "d1977588",
   "metadata": {},
   "outputs": [],
   "source": [
    "img = c.read()"
   ]
  },
  {
   "cell_type": "code",
   "execution_count": null,
   "id": "e0812fa1",
   "metadata": {},
   "outputs": [],
   "source": [
    "img # tuple"
   ]
  },
  {
   "cell_type": "code",
   "execution_count": null,
   "id": "67e099f7",
   "metadata": {},
   "outputs": [],
   "source": [
    "is_true, img = c.read()"
   ]
  },
  {
   "cell_type": "code",
   "execution_count": null,
   "id": "631f8dfc",
   "metadata": {},
   "outputs": [],
   "source": [
    "is_true"
   ]
  },
  {
   "cell_type": "code",
   "execution_count": null,
   "id": "bd0dd2f1",
   "metadata": {},
   "outputs": [],
   "source": [
    "img"
   ]
  },
  {
   "cell_type": "code",
   "execution_count": null,
   "id": "0501dbf1",
   "metadata": {},
   "outputs": [],
   "source": [
    "img.shape"
   ]
  },
  {
   "cell_type": "code",
   "execution_count": null,
   "id": "ad5c8923",
   "metadata": {},
   "outputs": [],
   "source": [
    "import matplotlib.pyplot as plt\n",
    "\n",
    "plt.imshow(img[...,::-1])"
   ]
  },
  {
   "cell_type": "code",
   "execution_count": null,
   "id": "44b7f151",
   "metadata": {},
   "outputs": [],
   "source": [
    "c.release()"
   ]
  },
  {
   "cell_type": "code",
   "execution_count": null,
   "id": "48d349f4",
   "metadata": {},
   "outputs": [],
   "source": []
  },
  {
   "cell_type": "code",
   "execution_count": null,
   "id": "9337bfe0",
   "metadata": {},
   "outputs": [],
   "source": [
    "c = cv2.VideoCapture(0)\n",
    "while True:\n",
    "    ret, frame = c.read()\n",
    "    cv2.imshow('WebCam', frame)    \n",
    "    if cv2.waitKey(1) & 0xFF == ord('q') : #esc __ ord('q')\n",
    "        \n",
    "        break\n",
    "c.release()\n",
    "cv2.destroyAllWindows()  "
   ]
  },
  {
   "cell_type": "code",
   "execution_count": null,
   "id": "f784c404",
   "metadata": {},
   "outputs": [],
   "source": [
    "c = cv2.VideoCapture(0)\n",
    "while True:\n",
    "    ret, frame = c.read()\n",
    "    frame[:,:,0] = frame[:,:,1] = 0 # openCV --> BGR\n",
    "    cv2.imshow('WebCam', frame)    \n",
    "    if cv2.waitKey(1) & 0xFF == 27:\n",
    "        \n",
    "        break\n",
    "c.release()\n",
    "cv2.destroyAllWindows() "
   ]
  },
  {
   "cell_type": "code",
   "execution_count": null,
   "id": "09745e4d",
   "metadata": {},
   "outputs": [],
   "source": [
    "c = cv2.VideoCapture(0)\n",
    "while True:\n",
    "    ret, frame = c.read()\n",
    "    gray = cv2.cvtColor(frame, cv2.COLOR_BGR2GRAY) #gray_scale\n",
    "    edge = cv2.Canny(gray,50,100)\n",
    "    cv2.imshow('WebCam', edge)    \n",
    "    if cv2.waitKey(1) & 0xFF == 27:\n",
    "        break\n",
    "c.release()\n",
    "cv2.destroyAllWindows() "
   ]
  },
  {
   "cell_type": "code",
   "execution_count": null,
   "id": "7ae104a5",
   "metadata": {},
   "outputs": [],
   "source": []
  }
 ],
 "metadata": {
  "kernelspec": {
   "display_name": "Python 3 (ipykernel)",
   "language": "python",
   "name": "python3"
  },
  "language_info": {
   "codemirror_mode": {
    "name": "ipython",
    "version": 3
   },
   "file_extension": ".py",
   "mimetype": "text/x-python",
   "name": "python",
   "nbconvert_exporter": "python",
   "pygments_lexer": "ipython3",
   "version": "3.9.13"
  }
 },
 "nbformat": 4,
 "nbformat_minor": 5
}
